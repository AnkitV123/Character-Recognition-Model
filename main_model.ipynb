{
  "cells": [
    {
      "cell_type": "code",
      "execution_count": null,
      "metadata": {
        "id": "sWovtg_kCg0J"
      },
      "outputs": [],
      "source": [
        "import numpy as np\n",
        "import tensorflow as tf\n",
        "import matplotlib.pyplot as plt\n",
        "from sklearn.model_selection import train_test_split\n"
      ]
    },
    {
      "cell_type": "code",
      "source": [
        "from google.colab import drive\n",
        "drive.mount('/content/drive')"
      ],
      "metadata": {
        "colab": {
          "base_uri": "https://localhost:8080/"
        },
        "id": "7jHlyPCIb8MA",
        "outputId": "8c523321-2ab8-4fbe-df7b-5fc2af9ef765"
      },
      "execution_count": null,
      "outputs": [
        {
          "output_type": "stream",
          "name": "stdout",
          "text": [
            "Drive already mounted at /content/drive; to attempt to forcibly remount, call drive.mount(\"/content/drive\", force_remount=True).\n"
          ]
        }
      ]
    },
    {
      "cell_type": "code",
      "execution_count": null,
      "metadata": {
        "id": "9LjQ4vjMCg0P",
        "outputId": "3ea912a6-c394-48e9-9465-de55d14c11ca",
        "colab": {
          "base_uri": "https://localhost:8080/"
        }
      },
      "outputs": [
        {
          "output_type": "stream",
          "name": "stdout",
          "text": [
            "['zV', 'zR', 'zQ', 'zX', 'zU', 'zZ', 'zW', 'zS', 'zY', 'zT', 'zO', 'zL', 'zP', 'zG', 'zN', 'zK', 'zM', 'zI', 'zH', 'zJ', 'zF', 'zA', 'zB', 'x', 'y', 'zC', 'w', 'zE', 'z', 'zD', 's', 'o', 'v', 'q', 'n', 't', 'r', 'm', 'p', 'u', 'd', 'e', 'l', 'g', 'h', 'f', 'c', 'j', 'i', 'k', 'a', 'b']\n"
          ]
        }
      ],
      "source": [
        "import os\n",
        "path=\"/content/drive/MyDrive/Explo/UnprocImg32/\"\n",
        "files=os.listdir(path)[:52]\n",
        "print(files)\n",
        "\n",
        "classes={'a':0,'b':1,'c':2,'d':3,'e':4,'f':5,'g':6,'h':7,'i':8,'j':9,'k':10,'l':11,'m':12,'n':13,'o':14,'p':15,'q':16,'r':17,'s':18,'t':19,'u':20,'v':21,'w':22,'x':23,'y':24,'z':25,'zA':26,'zB':27,'zC':28,'zD':29,'zE':30,'zF':31,'zG':32,'zH':33,'zI':34,'zJ':35,'zK':36,'zL':37,'zM':38,'zN':39,'zO':40,'zP':41,'zQ':42,'zR':43,'zS':44,'zT':45,'zU':46,'zV':47,'zW':48,'zX':49,'zY':50,'zZ':51}"
      ]
    },
    {
      "cell_type": "code",
      "execution_count": null,
      "metadata": {
        "id": "gFLSvtuECg0S",
        "outputId": "88fc1c24-df8a-41cf-c26b-1b6eaefdc70c",
        "colab": {
          "base_uri": "https://localhost:8080/"
        }
      },
      "outputs": [
        {
          "output_type": "stream",
          "name": "stdout",
          "text": [
            "dataset created successfully!\n"
          ]
        }
      ],
      "source": [
        "import cv2\n",
        "\n",
        "X=[]\n",
        "Y=[]\n",
        "\n",
        "for cl in classes:\n",
        "    pth = path+cl\n",
        "    for img_name in os.listdir(pth):\n",
        "        img = cv2.imread(pth+\"/\"+img_name,0)\n",
        "        X.append(img)\n",
        "        Y.append(classes[cl])\n",
        "print(\"dataset created successfully!\")"
      ]
    },
    {
      "cell_type": "code",
      "execution_count": null,
      "metadata": {
        "id": "f_jRSJkhCg0U"
      },
      "outputs": [],
      "source": [
        "X = np.array(X)\n",
        "Y = np.array(Y)"
      ]
    },
    {
      "cell_type": "code",
      "execution_count": null,
      "metadata": {
        "id": "KsatE603Cg0V"
      },
      "outputs": [],
      "source": [
        "xtrain, xtest, ytrain, ytest = train_test_split(X,Y,test_size=.30,random_state=42)"
      ]
    },
    {
      "cell_type": "code",
      "execution_count": null,
      "metadata": {
        "id": "r1Oz4zZbCg0W",
        "outputId": "209eb8d6-e069-4ffc-ec19-3b5280d2fe45",
        "colab": {
          "base_uri": "https://localhost:8080/"
        }
      },
      "outputs": [
        {
          "output_type": "execute_result",
          "data": {
            "text/plain": [
              "(12955, 32, 32)"
            ]
          },
          "metadata": {},
          "execution_count": 38
        }
      ],
      "source": [
        "xtrain.shape"
      ]
    },
    {
      "cell_type": "code",
      "execution_count": null,
      "metadata": {
        "id": "mYD991FTCg0Y",
        "outputId": "e7950d2d-c953-4a4a-af7d-be28616133ab",
        "colab": {
          "base_uri": "https://localhost:8080/",
          "height": 447
        }
      },
      "outputs": [
        {
          "output_type": "execute_result",
          "data": {
            "text/plain": [
              "<matplotlib.image.AxesImage at 0x7fc0d1404c10>"
            ]
          },
          "metadata": {},
          "execution_count": 39
        },
        {
          "output_type": "display_data",
          "data": {
            "text/plain": [
              "<Figure size 640x480 with 1 Axes>"
            ],
            "image/png": "[encoded data removed]"
          },
          "metadata": {}
        }
      ],
      "source": [
        "plt.imshow(xtrain[10],cmap = \"gray\")"
      ]
    },
    {
      "cell_type": "code",
      "execution_count": null,
      "metadata": {
        "id": "69e6bDvqCg0Z",
        "outputId": "7a13fd7a-eb02-4820-a7b2-fa415da39b15",
        "colab": {
          "base_uri": "https://localhost:8080/"
        }
      },
      "outputs": [
        {
          "output_type": "stream",
          "name": "stdout",
          "text": [
            "[[150 150 148 ... 154 153 152]\n",
            " [151 150 149 ... 153 151 151]\n",
            " [152 152 150 ... 151 151 150]\n",
            " ...\n",
            " [150 150 149 ... 154 153 151]\n",
            " [150 150 149 ... 154 152 152]\n",
            " [143 143 146 ... 126 123 120]]\n"
          ]
        }
      ],
      "source": [
        "print(xtrain[0])"
      ]
    },
    {
      "cell_type": "markdown",
      "metadata": {
        "id": "qid4SKHyCg0a"
      },
      "source": [
        "Normalizing the data"
      ]
    },
    {
      "cell_type": "code",
      "execution_count": null,
      "metadata": {
        "id": "waviWBVmCg0e",
        "outputId": "627af8ec-98b1-458e-aabb-216dfc135175",
        "colab": {
          "base_uri": "https://localhost:8080/",
          "height": 447
        }
      },
      "outputs": [
        {
          "output_type": "execute_result",
          "data": {
            "text/plain": [
              "<matplotlib.image.AxesImage at 0x7fc0e05b01c0>"
            ]
          },
          "metadata": {},
          "execution_count": 41
        },
        {
          "output_type": "display_data",
          "data": {
            "text/plain": [
              "<Figure size 640x480 with 1 Axes>"
            ],
            "image/png": "[encoded data removed]"
          },
          "metadata": {}
        }
      ],
      "source": [
        "xtrain = xtrain/255\n",
        "xtest = xtest/255\n",
        "plt.imshow(xtrain[0],cmap = \"gray\")"
      ]
    },
    {
      "cell_type": "code",
      "execution_count": null,
      "metadata": {
        "id": "nqmtGV37Cg0f",
        "outputId": "e5b7c7b1-c59a-4226-852e-f7cc427be8e1",
        "colab": {
          "base_uri": "https://localhost:8080/"
        }
      },
      "outputs": [
        {
          "output_type": "stream",
          "name": "stdout",
          "text": [
            "[[0.58823529 0.58823529 0.58039216 ... 0.60392157 0.6        0.59607843]\n",
            " [0.59215686 0.58823529 0.58431373 ... 0.6        0.59215686 0.59215686]\n",
            " [0.59607843 0.59607843 0.58823529 ... 0.59215686 0.59215686 0.58823529]\n",
            " ...\n",
            " [0.58823529 0.58823529 0.58431373 ... 0.60392157 0.6        0.59215686]\n",
            " [0.58823529 0.58823529 0.58431373 ... 0.60392157 0.59607843 0.59607843]\n",
            " [0.56078431 0.56078431 0.57254902 ... 0.49411765 0.48235294 0.47058824]]\n"
          ]
        }
      ],
      "source": [
        "print(xtrain[0])"
      ]
    },
    {
      "cell_type": "code",
      "execution_count": null,
      "metadata": {
        "id": "1wrV31vCCg0g",
        "outputId": "019f8891-e7d2-481e-da7a-d3a8eb94990b",
        "colab": {
          "base_uri": "https://localhost:8080/"
        }
      },
      "outputs": [
        {
          "output_type": "stream",
          "name": "stdout",
          "text": [
            "50\n"
          ]
        }
      ],
      "source": [
        "print(ytrain[0])"
      ]
    },
    {
      "cell_type": "markdown",
      "metadata": {
        "id": "EeRevPyBCg0h"
      },
      "source": [
        "Resizing image to make it suitable for apply convolution operation"
      ]
    },
    {
      "cell_type": "code",
      "execution_count": null,
      "metadata": {
        "id": "b7ztz9lTCg0i",
        "outputId": "f68e5ae4-cab4-4275-a2df-d4789a946287",
        "colab": {
          "base_uri": "https://localhost:8080/"
        }
      },
      "outputs": [
        {
          "output_type": "stream",
          "name": "stdout",
          "text": [
            "Training Samples dimension (12955, 32, 32, 1)\n",
            "Testing Samples dimension (5553, 32, 32, 1)\n"
          ]
        }
      ],
      "source": [
        "IMG_SIZE = 32\n",
        "xtrainr=np.array(xtrain).reshape(-1,IMG_SIZE,IMG_SIZE,1)\n",
        "xtestr=np.array(xtest).reshape(-1,IMG_SIZE,IMG_SIZE,1)\n",
        "print(\"Training Samples dimension\",xtrainr.shape)\n",
        "print(\"Testing Samples dimension\",xtestr.shape)"
      ]
    },
    {
      "cell_type": "markdown",
      "metadata": {
        "id": "KUlU71DJCg0j"
      },
      "source": [
        "Creating Deep Learning Neural Network"
      ]
    },
    {
      "cell_type": "code",
      "execution_count": null,
      "metadata": {
        "id": "aWiNswlbCg0n"
      },
      "outputs": [],
      "source": [
        "from __future__ import print_function\n",
        "from tensorflow.keras.models import Sequential\n",
        "from tensorflow.keras.layers import Dense, Dropout, Flatten, Activation\n",
        "from tensorflow.keras.layers import Conv2D\n",
        "from tensorflow.keras.layers import MaxPooling2D\n",
        "from keras.callbacks import EarlyStopping, ModelCheckpoint\n"
      ]
    },
    {
      "cell_type": "code",
      "execution_count": null,
      "metadata": {
        "id": "9Djymg1-Cg0p"
      },
      "outputs": [],
      "source": [
        "model = Sequential()\n",
        "model.add(Conv2D(32, kernel_size = (3, 3),activation = 'relu',input_shape = (32,32,1)))\n",
        "model.add(Conv2D(64, (3, 3), activation = 'relu',padding= 'same'))\n",
        "model.add(Conv2D(128, (3, 3), activation = 'relu' , padding ='same'))\n",
        "model.add(MaxPooling2D(pool_size = (2, 2), padding = 'same'))\n",
        "model.add(Dropout(0.25))\n",
        "model.add(Flatten())\n",
        "model.add(Dense(104, activation = 'relu'))\n",
        "model.add(Dropout(0.25))\n",
        "model.add(Dense(52, activation = 'softmax'))"
      ]
    },
    {
      "cell_type": "code",
      "execution_count": null,
      "metadata": {
        "id": "JBNzDm15Cg0q",
        "outputId": "75b88611-eca8-4af6-f24c-5764c70d6f06",
        "colab": {
          "base_uri": "https://localhost:8080/"
        }
      },
      "outputs": [
        {
          "output_type": "stream",
          "name": "stdout",
          "text": [
            "Model: \"sequential_3\"\n",
            "_________________________________________________________________\n",
            " Layer (type)                Output Shape              Param #   \n",
            "=================================================================\n",
            " conv2d_9 (Conv2D)           (None, 30, 30, 32)        320       \n",
            "                                                                 \n",
            " conv2d_10 (Conv2D)          (None, 30, 30, 64)        18496     \n",
            "                                                                 \n",
            " conv2d_11 (Conv2D)          (None, 30, 30, 128)       73856     \n",
            "                                                                 \n",
            " max_pooling2d_3 (MaxPooling  (None, 15, 15, 128)      0         \n",
            " 2D)                                                             \n",
            "                                                                 \n",
            " dropout_6 (Dropout)         (None, 15, 15, 128)       0         \n",
            "                                                                 \n",
            " flatten_3 (Flatten)         (None, 28800)             0         \n",
            "                                                                 \n",
            " dense_6 (Dense)             (None, 104)               2995304   \n",
            "                                                                 \n",
            " dropout_7 (Dropout)         (None, 104)               0         \n",
            "                                                                 \n",
            " dense_7 (Dense)             (None, 52)                5460      \n",
            "                                                                 \n",
            "=================================================================\n",
            "Total params: 3,093,436\n",
            "Trainable params: 3,093,436\n",
            "Non-trainable params: 0\n",
            "_________________________________________________________________\n"
          ]
        }
      ],
      "source": [
        "model.summary()"
      ]
    },
    {
      "cell_type": "code",
      "execution_count": null,
      "metadata": {
        "id": "fqlCBDKuCg0r",
        "outputId": "1099da3a-3cc5-40ef-c963-4f54faf13ef2",
        "colab": {
          "base_uri": "https://localhost:8080/"
        }
      },
      "outputs": [
        {
          "output_type": "stream",
          "name": "stdout",
          "text": [
            "Total Training Samples =  12955\n"
          ]
        }
      ],
      "source": [
        "print(\"Total Training Samples = \",len(xtrainr))"
      ]
    },
    {
      "cell_type": "code",
      "execution_count": null,
      "metadata": {
        "id": "vO0gH2SaCg0s"
      },
      "outputs": [],
      "source": [
        "model.compile(loss=tf.keras.losses.sparse_categorical_crossentropy, optimizer=tf.keras.optimizers.Adam(), metrics=['accuracy'])\n",
        "\n",
        "early_stopping = EarlyStopping(monitor='val_loss', patience=5, verbose=1, mode='min')\n",
        "mcp_save = ModelCheckpoint('my_model.h5', save_best_only=True, monitor='val_loss', verbose=1, mode='auto')"
      ]
    },
    {
      "cell_type": "code",
      "execution_count": null,
      "metadata": {
        "id": "H3teqJvbCg0t",
        "outputId": "33dde89c-9e2a-428d-8169-deee52cfa73a",
        "colab": {
          "base_uri": "https://localhost:8080/"
        }
      },
      "outputs": [
        {
          "output_type": "stream",
          "name": "stdout",
          "text": [
            "Epoch 1/100\n",
            "243/243 [==============================] - ETA: 0s - loss: 3.2962 - accuracy: 0.1685\n",
            "Epoch 1: val_loss improved from inf to 1.60391, saving model to my_model.h5\n",
            "243/243 [==============================] - 145s 589ms/step - loss: 3.2962 - accuracy: 0.1685 - val_loss: 1.6039 - val_accuracy: 0.5816\n",
            "Epoch 2/100\n",
            "243/243 [==============================] - ETA: 0s - loss: 1.4564 - accuracy: 0.5730\n",
            "Epoch 2: val_loss improved from 1.60391 to 0.80559, saving model to my_model.h5\n",
            "243/243 [==============================] - 145s 596ms/step - loss: 1.4564 - accuracy: 0.5730 - val_loss: 0.8056 - val_accuracy: 0.7742\n",
            "Epoch 3/100\n",
            "243/243 [==============================] - ETA: 0s - loss: 0.8728 - accuracy: 0.7253\n",
            "Epoch 3: val_loss improved from 0.80559 to 0.57068, saving model to my_model.h5\n",
            "243/243 [==============================] - 166s 683ms/step - loss: 0.8728 - accuracy: 0.7253 - val_loss: 0.5707 - val_accuracy: 0.8207\n",
            "Epoch 4/100\n",
            "243/243 [==============================] - ETA: 0s - loss: 0.6211 - accuracy: 0.7976\n",
            "Epoch 4: val_loss improved from 0.57068 to 0.48062, saving model to my_model.h5\n",
            "243/243 [==============================] - 171s 705ms/step - loss: 0.6211 - accuracy: 0.7976 - val_loss: 0.4806 - val_accuracy: 0.8431\n",
            "Epoch 5/100\n",
            "243/243 [==============================] - ETA: 0s - loss: 0.5007 - accuracy: 0.8367\n",
            "Epoch 5: val_loss improved from 0.48062 to 0.42504, saving model to my_model.h5\n",
            "243/243 [==============================] - 154s 636ms/step - loss: 0.5007 - accuracy: 0.8367 - val_loss: 0.4250 - val_accuracy: 0.8578\n",
            "Epoch 6/100\n",
            "243/243 [==============================] - ETA: 0s - loss: 0.4222 - accuracy: 0.8537\n",
            "Epoch 6: val_loss improved from 0.42504 to 0.41258, saving model to my_model.h5\n",
            "243/243 [==============================] - 153s 630ms/step - loss: 0.4222 - accuracy: 0.8537 - val_loss: 0.4126 - val_accuracy: 0.8620\n",
            "Epoch 7/100\n",
            "243/243 [==============================] - ETA: 0s - loss: 0.3706 - accuracy: 0.8702\n",
            "Epoch 7: val_loss improved from 0.41258 to 0.37878, saving model to my_model.h5\n",
            "243/243 [==============================] - 169s 693ms/step - loss: 0.3706 - accuracy: 0.8702 - val_loss: 0.3788 - val_accuracy: 0.8697\n",
            "Epoch 8/100\n",
            "243/243 [==============================] - ETA: 0s - loss: 0.3155 - accuracy: 0.8873\n",
            "Epoch 8: val_loss improved from 0.37878 to 0.37756, saving model to my_model.h5\n",
            "243/243 [==============================] - 149s 616ms/step - loss: 0.3155 - accuracy: 0.8873 - val_loss: 0.3776 - val_accuracy: 0.8734\n",
            "Epoch 9/100\n",
            "243/243 [==============================] - ETA: 0s - loss: 0.2846 - accuracy: 0.8946\n",
            "Epoch 9: val_loss did not improve from 0.37756\n",
            "243/243 [==============================] - 152s 623ms/step - loss: 0.2846 - accuracy: 0.8946 - val_loss: 0.3816 - val_accuracy: 0.8672\n",
            "Epoch 10/100\n",
            "243/243 [==============================] - ETA: 0s - loss: 0.2512 - accuracy: 0.9103\n",
            "Epoch 10: val_loss improved from 0.37756 to 0.35374, saving model to my_model.h5\n",
            "243/243 [==============================] - 153s 627ms/step - loss: 0.2512 - accuracy: 0.9103 - val_loss: 0.3537 - val_accuracy: 0.8846\n",
            "Epoch 11/100\n",
            "243/243 [==============================] - ETA: 0s - loss: 0.2390 - accuracy: 0.9121\n",
            "Epoch 11: val_loss improved from 0.35374 to 0.34950, saving model to my_model.h5\n",
            "243/243 [==============================] - 149s 613ms/step - loss: 0.2390 - accuracy: 0.9121 - val_loss: 0.3495 - val_accuracy: 0.8861\n",
            "Epoch 12/100\n",
            "243/243 [==============================] - ETA: 0s - loss: 0.2204 - accuracy: 0.9211\n",
            "Epoch 12: val_loss did not improve from 0.34950\n",
            "243/243 [==============================] - 166s 686ms/step - loss: 0.2204 - accuracy: 0.9211 - val_loss: 0.3768 - val_accuracy: 0.8796\n",
            "Epoch 13/100\n",
            "243/243 [==============================] - ETA: 0s - loss: 0.2160 - accuracy: 0.9219\n",
            "Epoch 13: val_loss did not improve from 0.34950\n",
            "243/243 [==============================] - 150s 618ms/step - loss: 0.2160 - accuracy: 0.9219 - val_loss: 0.3762 - val_accuracy: 0.8777\n",
            "Epoch 14/100\n",
            "243/243 [==============================] - ETA: 0s - loss: 0.2031 - accuracy: 0.9287\n",
            "Epoch 14: val_loss did not improve from 0.34950\n",
            "243/243 [==============================] - 160s 659ms/step - loss: 0.2031 - accuracy: 0.9287 - val_loss: 0.3497 - val_accuracy: 0.8842\n",
            "Epoch 15/100\n",
            "243/243 [==============================] - ETA: 0s - loss: 0.1774 - accuracy: 0.9353\n",
            "Epoch 15: val_loss did not improve from 0.34950\n",
            "243/243 [==============================] - 146s 600ms/step - loss: 0.1774 - accuracy: 0.9353 - val_loss: 0.3760 - val_accuracy: 0.8805\n",
            "Epoch 16/100\n",
            "243/243 [==============================] - ETA: 0s - loss: 0.1829 - accuracy: 0.9332\n",
            "Epoch 16: val_loss did not improve from 0.34950\n",
            "243/243 [==============================] - 147s 604ms/step - loss: 0.1829 - accuracy: 0.9332 - val_loss: 0.3860 - val_accuracy: 0.8832\n",
            "Epoch 16: early stopping\n"
          ]
        }
      ],
      "source": [
        "history = model.fit(xtrainr,\n",
        "                    ytrain,\n",
        "                    epochs=100,\n",
        "                    batch_size=32,\n",
        "                    verbose=1,\n",
        "                    validation_split=0.4,\n",
        "                    callbacks=[early_stopping, mcp_save])\n"
      ]
    },
    {
      "cell_type": "code",
      "execution_count": null,
      "metadata": {
        "id": "VZLyBmVBCg0u"
      },
      "outputs": [],
      "source": [
        "def plotgraph(epochs, acc, val_acc):\n",
        "    # Plot training & validation accuracy values\n",
        "    plt.plot(epochs, acc, 'b')\n",
        "    plt.plot(epochs, val_acc, 'r')\n",
        "    plt.title('Model accuracy')\n",
        "    plt.ylabel('Accuracy')\n",
        "    plt.xlabel('Epoch')\n",
        "    plt.legend(['Train', 'Val'], loc='upper left')\n",
        "    plt.show()\n",
        "\n",
        "acc = history.history['accuracy']\n",
        "val_acc = history.history['val_accuracy']\n",
        "loss = history.history['loss']\n",
        "val_loss = history.history['val_loss']\n",
        "epochs = range(1,len(acc)+1)"
      ]
    },
    {
      "cell_type": "code",
      "execution_count": null,
      "metadata": {
        "id": "WZa3zwGOCg0v",
        "colab": {
          "base_uri": "https://localhost:8080/",
          "height": 472
        },
        "outputId": "5529b27a-3256-49fc-b0bc-0f6945560dc4"
      },
      "outputs": [
        {
          "output_type": "display_data",
          "data": {
            "text/plain": [
              "<Figure size 640x480 with 1 Axes>"
            ],
            "image/png": "[encoded data removed]"
          },
          "metadata": {}
        }
      ],
      "source": [
        "plotgraph(epochs, acc, val_acc)"
      ]
    },
    {
      "cell_type": "code",
      "execution_count": null,
      "metadata": {
        "id": "k3mEU0KVCg0w",
        "colab": {
          "base_uri": "https://localhost:8080/",
          "height": 472
        },
        "outputId": "b99703c6-3e6f-44de-da14-e27bf6403939"
      },
      "outputs": [
        {
          "output_type": "display_data",
          "data": {
            "text/plain": [
              "<Figure size 640x480 with 1 Axes>"
            ],
            "image/png": "[encoded data removed]"
          },
          "metadata": {}
        }
      ],
      "source": [
        "# loss curve\n",
        "plotgraph(epochs, loss, val_loss)"
      ]
    },
    {
      "cell_type": "code",
      "execution_count": null,
      "metadata": {
        "id": "d7-v9_TFCg0y",
        "colab": {
          "base_uri": "https://localhost:8080/"
        },
        "outputId": "481f0fca-e0ee-432f-eaae-0d765ffb00b9"
      },
      "outputs": [
        {
          "output_type": "stream",
          "name": "stdout",
          "text": [
            "174/174 [==============================] - 21s 121ms/step - loss: 0.3876 - accuracy: 0.8793\n",
            "Test Loss on test samples 0.387605220079422\n",
            "Validation Accuracy on test samples 0.8793445229530334\n"
          ]
        }
      ],
      "source": [
        "test_loss, test_acc = model.evaluate(xtestr, ytest)\n",
        "print(\"Test Loss on test samples\",test_loss)\n",
        "print(\"Validation Accuracy on test samples\",test_acc)"
      ]
    },
    {
      "cell_type": "code",
      "execution_count": null,
      "metadata": {
        "id": "8XMq9uZFCg0y"
      },
      "outputs": [],
      "source": [
        "predictions = model.predict([xtestr])"
      ]
    },
    {
      "cell_type": "code",
      "execution_count": null,
      "metadata": {
        "id": "r-CE0IEzCg0z"
      },
      "outputs": [],
      "source": [
        "print(predictions)"
      ]
    },
    {
      "cell_type": "code",
      "execution_count": null,
      "metadata": {
        "id": "MEZjo9-2Cg00"
      },
      "outputs": [],
      "source": [
        "print(np.argmax(predictions[0]))"
      ]
    },
    {
      "cell_type": "code",
      "execution_count": null,
      "metadata": {
        "id": "nLiLxa8UCg01"
      },
      "outputs": [],
      "source": [
        "plt.imshow(xtest[0])"
      ]
    },
    {
      "cell_type": "code",
      "execution_count": null,
      "metadata": {
        "id": "IURPqZHKCg01",
        "colab": {
          "base_uri": "https://localhost:8080/"
        },
        "outputId": "cd7e6661-c155-4284-c943-c6551b94c3d0"
      },
      "outputs": [
        {
          "output_type": "stream",
          "name": "stdout",
          "text": [
            "40\n"
          ]
        }
      ],
      "source": [
        "print(np.argmax(predictions[100]))"
      ]
    },
    {
      "cell_type": "code",
      "execution_count": null,
      "metadata": {
        "id": "h0OQXwKBCg02",
        "colab": {
          "base_uri": "https://localhost:8080/",
          "height": 447
        },
        "outputId": "7f19d92f-5d27-4b8a-a6a0-f3c1d263e686"
      },
      "outputs": [
        {
          "data": {
            "text/plain": [
              "<matplotlib.image.AxesImage at 0x7fc0e4225840>"
            ]
          },
          "execution_count": 60,
          "metadata": {},
          "output_type": "execute_result"
        },
        {
          "data": {
            "image/png": "[encoded data removed]",
            "text/plain": [
              "<Figure size 640x480 with 1 Axes>"
            ]
          },
          "metadata": {},
          "output_type": "display_data"
        }
      ],
      "source": [
        "plt.imshow(xtest[100])"
      ]
    }
  ],
  "metadata": {
    "kernelspec": {
      "display_name": "Python 3",
      "language": "python",
      "name": "python3"
    },
    "language_info": {
      "codemirror_mode": {
        "name": "ipython",
        "version": 3
      },
      "file_extension": ".py",
      "mimetype": "text/x-python",
      "name": "python",
      "nbconvert_exporter": "python",
      "pygments_lexer": "ipython3",
      "version": "3.10.5"
    },
    "orig_nbformat": 4,
    "vscode": {
      "interpreter": {
        "hash": "63963b3f4c440940f0b94a3100916033a226cb4f45979123153792d60aa56d6a"
      }
    },
    "colab": {
      "provenance": []
    }
  },
  "nbformat": 4,
  "nbformat_minor": 0
}